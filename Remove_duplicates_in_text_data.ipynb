{
  "nbformat": 4,
  "nbformat_minor": 0,
  "metadata": {
    "colab": {
      "name": "Remove duplicates in text data.ipynb",
      "provenance": [],
      "collapsed_sections": []
    },
    "kernelspec": {
      "name": "python3",
      "display_name": "Python 3"
    }
  },
  "cells": [
    {
      "cell_type": "code",
      "metadata": {
        "colab": {
          "base_uri": "https://localhost:8080/"
        },
        "id": "AITZ8KMw7n8D",
        "outputId": "6c944b9d-2a22-44a9-d625-ccb0c06b524d"
      },
      "source": [
        "from google.colab import drive\n",
        "drive.mount('/content/drive')"
      ],
      "execution_count": null,
      "outputs": [
        {
          "output_type": "stream",
          "text": [
            "Drive already mounted at /content/drive; to attempt to forcibly remount, call drive.mount(\"/content/drive\", force_remount=True).\n"
          ],
          "name": "stdout"
        }
      ]
    },
    {
      "cell_type": "markdown",
      "metadata": {
        "id": "VIPOL_3c96on"
      },
      "source": [
        "# **Load files**"
      ]
    },
    {
      "cell_type": "code",
      "metadata": {
        "id": "rO0zqvbn9z01"
      },
      "source": [
        "og = open(\"/content/drive/MyDrive/multiALL.txt\", \"r\")\n",
        "med = open(\"/content/drive/MyDrive/emeaALL.txt\", \"r\")"
      ],
      "execution_count": null,
      "outputs": []
    },
    {
      "cell_type": "code",
      "metadata": {
        "colab": {
          "base_uri": "https://localhost:8080/"
        },
        "id": "dobHvD2nHkx0",
        "outputId": "7957f851-5c27-4cb8-a83b-558ddfa5eb5d"
      },
      "source": [
        "print(med.readline())"
      ],
      "execution_count": null,
      "outputs": [
        {
          "output_type": "stream",
          "text": [
            "European Medicines Agency\tEuropean Medicines Agency\n",
            "\n"
          ],
          "name": "stdout"
        }
      ]
    },
    {
      "cell_type": "code",
      "metadata": {
        "colab": {
          "base_uri": "https://localhost:8080/"
        },
        "id": "U5e6YpGPMTKJ",
        "outputId": "ebd9b305-1993-475e-d4fe-8669d3536ec3"
      },
      "source": [
        "print(og.readline())"
      ],
      "execution_count": null,
      "outputs": [
        {
          "output_type": "stream",
          "text": [
            "Dejar reposar por 15 minutos.\tPiecz przez 15 minut.\n",
            "\n"
          ],
          "name": "stdout"
        }
      ]
    },
    {
      "cell_type": "markdown",
      "metadata": {
        "id": "RZjaDJuf9q2f"
      },
      "source": [
        "## **1. Delete duplicates**"
      ]
    },
    {
      "cell_type": "code",
      "metadata": {
        "id": "EAyTXbzk9Su7"
      },
      "source": [
        "lines_seen = set()\n",
        "outfile = open(\"/content/drive/MyDrive/emeaALL_noduplicates.txt\", \"w\")\n",
        "for line in med:\n",
        "  if line not in lines_seen:\n",
        "    outfile.write(line)\n",
        "    lines_seen.add(line)\n",
        "outfile.close()"
      ],
      "execution_count": null,
      "outputs": []
    },
    {
      "cell_type": "code",
      "metadata": {
        "id": "bE0H355SMKan"
      },
      "source": [
        "lines_seen2 = set()\n",
        "outfile2 = open(\"/content/drive/MyDrive/multiALL_noduplicates.txt\", \"w\")\n",
        "for line in og:\n",
        "  if line not in lines_seen2:\n",
        "    outfile2.write(line)\n",
        "    lines_seen2.add(line)\n",
        "outfile2.close()"
      ],
      "execution_count": null,
      "outputs": []
    },
    {
      "cell_type": "markdown",
      "metadata": {
        "id": "3xV89XKfS8t0"
      },
      "source": [
        "## **2. Divide text per language**"
      ]
    },
    {
      "cell_type": "code",
      "metadata": {
        "id": "1h8kP3odTJOS"
      },
      "source": [
        "f = open(\"/content/drive/MyDrive/emeaALL_noduplicates.txt\", \"r\")\n",
        "lines = f.readlines()"
      ],
      "execution_count": null,
      "outputs": []
    },
    {
      "cell_type": "code",
      "metadata": {
        "id": "QJYwB3WWe_jU"
      },
      "source": [
        "es = open(\"/content/drive/MyDrive/emea_es.txt\", \"w\")\n",
        "pl = open(\"/content/drive/MyDrive/emea_pl.txt\", \"w\")\n",
        "for line in lines:\n",
        "  x = line.split(\"\\t\")\n",
        "  for j, temp in enumerate(x):\n",
        "    if j%2 == 0:\n",
        "      es.write(\"{}\\n\".format(temp))\n",
        "    else:\n",
        "      pl.write(temp)\n",
        "\n",
        "es.close()\n",
        "pl.close()"
      ],
      "execution_count": null,
      "outputs": []
    },
    {
      "cell_type": "code",
      "metadata": {
        "colab": {
          "base_uri": "https://localhost:8080/"
        },
        "id": "yRR_XGj7VfzH",
        "outputId": "cb85d68f-fa34-42ef-f579-fa5089e6c199"
      },
      "source": [
        "# tmp = f.readline()\n",
        "# x = tmp.split(\"\\t\")\n",
        "# print(x)\n",
        "# for temp in x:\n",
        "#   print(temp)"
      ],
      "execution_count": null,
      "outputs": [
        {
          "output_type": "stream",
          "text": [
            "['Si desea más información sobre su enfermedad o el tratamiento de la misma, le aconsejamos que lea el prospecto (incluido en el EPAR) o pregunte a su médico o su farmacéutico.', 'W celu uzyskania dodatkowych informacji na temat stanu chorobowego lub sposobu leczenia, należy zapoznać się z ulotką dla pacjenta (także stanowiącą część EPAR) bądź skontaktować się z lekarzem lub farmaceutą.\\n']\n",
            "Si desea más información sobre su enfermedad o el tratamiento de la misma, le aconsejamos que lea el prospecto (incluido en el EPAR) o pregunte a su médico o su farmacéutico.\n",
            "W celu uzyskania dodatkowych informacji na temat stanu chorobowego lub sposobu leczenia, należy zapoznać się z ulotką dla pacjenta (także stanowiącą część EPAR) bądź skontaktować się z lekarzem lub farmaceutą.\n",
            "\n"
          ],
          "name": "stdout"
        }
      ]
    },
    {
      "cell_type": "code",
      "metadata": {
        "id": "31IpQhKxWN7p"
      },
      "source": [
        "g = open(\"/content/drive/MyDrive/multiALL_noduplicates.txt\", \"r\")\n",
        "lines2 = g.readlines()"
      ],
      "execution_count": null,
      "outputs": []
    },
    {
      "cell_type": "code",
      "metadata": {
        "id": "2zHxshV6lWND"
      },
      "source": [
        "es2 = open(\"/content/drive/MyDrive/multi_es.txt\", \"w\")\n",
        "pl2 = open(\"/content/drive/MyDrive/multi_pl.txt\", \"w\")\n",
        "for line in lines2:\n",
        "  x = line.split(\"\\t\")\n",
        "  for j, temp in enumerate(x):\n",
        "    if j%2 == 0:\n",
        "      es2.write(\"{}\\n\".format(temp))\n",
        "    else:\n",
        "      pl2.write(temp)\n",
        "\n",
        "es2.close()\n",
        "pl2.close()"
      ],
      "execution_count": null,
      "outputs": []
    }
  ]
}